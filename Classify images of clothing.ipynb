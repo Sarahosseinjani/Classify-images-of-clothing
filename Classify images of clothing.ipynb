{
  "cells": [
    {
      "cell_type": "markdown",
      "metadata": {
        "id": "h5CBtGaY2zNF"
      },
      "source": [
        "In this exercise, we want to classify images with neural networks by TensorFlow and Keras frameworks.\n",
        "\n",
        "First you should analayze the following code which is a sample code from TensorFlow official site. \n",
        "\n",
        "https://www.tensorflow.org/tutorials/keras/classification\n",
        "\n",
        "Then you should implement your code for classification of Mnist dataset.\n",
        "\n",
        "Note that the following code is only implemented with sequential approach. You should implement your code with both sequential and functional approaches."
      ]
    },
    {
      "cell_type": "markdown",
      "metadata": {
        "id": "fViUZk9j7mF3"
      },
      "source": [
        "## Basic classification: Classify images of clothing"
      ]
    },
    {
      "cell_type": "markdown",
      "metadata": {
        "id": "rgd1DLVO8V6l"
      },
      "source": [
        "This guide trains a neural network model to classify images of clothing, like sneakers and shirts. It's okay if you don't understand all the details"
      ]
    },
    {
      "cell_type": "code",
      "execution_count": 3,
      "metadata": {
        "id": "qchhyIoSs2gM"
      },
      "outputs": [],
      "source": [
        "import tensorflow as tf \n",
        "import numpy as np\n",
        "import matplotlib.pyplot as plt\n",
        "from tensorflow.keras.models import Sequential, Model\n",
        "from tensorflow.keras.layers import Input, Dense, Flatten, Softmax"
      ]
    },
    {
      "cell_type": "markdown",
      "metadata": {
        "id": "RpfyR5_g8pFu"
      },
      "source": [
        "### Import the Fashion MNIST dataset"
      ]
    },
    {
      "cell_type": "markdown",
      "metadata": {
        "id": "Drfe55p48ztH"
      },
      "source": [
        "This guide uses the [Fashion MNIST](https://github.com/zalandoresearch/fashion-mnist) dataset which contains 70,000 grayscale images in 10 categories. The images show individual articles of clothing at low resolution (28 by 28 pixels).\n",
        "\n",
        "Here, 60,000 images are used to train the network and 10,000 images to evaluate how accurately the network learned to classify images. You can access the Fashion MNIST directly from TensorFlow. Import and [load the Fashion MNIST data](https://www.tensorflow.org/api_docs/python/tf/keras/datasets/fashion_mnist/load_data) directly from TensorFlow:"
      ]
    },
    {
      "cell_type": "code",
      "execution_count": 2,
      "metadata": {
        "colab": {
          "base_uri": "https://localhost:8080/"
        },
        "id": "_Zk7e8LGxHPN",
        "outputId": "c747c1ae-7766-47c9-ba6c-9275cef6b0b7"
      },
      "outputs": [
        {
          "name": "stdout",
          "output_type": "stream",
          "text": [
            "Downloading data from https://storage.googleapis.com/tensorflow/tf-keras-datasets/train-labels-idx1-ubyte.gz\n",
            "29515/29515 [==============================] - 0s 0us/step\n",
            "Downloading data from https://storage.googleapis.com/tensorflow/tf-keras-datasets/train-images-idx3-ubyte.gz\n",
            "26421880/26421880 [==============================] - 0s 0us/step\n",
            "Downloading data from https://storage.googleapis.com/tensorflow/tf-keras-datasets/t10k-labels-idx1-ubyte.gz\n",
            "5148/5148 [==============================] - 0s 0us/step\n",
            "Downloading data from https://storage.googleapis.com/tensorflow/tf-keras-datasets/t10k-images-idx3-ubyte.gz\n",
            "4422102/4422102 [==============================] - 0s 0us/step\n"
          ]
        }
      ],
      "source": [
        "labels_name = ['T-shirt/top','Trouser','Pullover','Dress','Coat','Sandal','Shirt','Sneaker','Bag','Ankle boot']\n",
        "fashion_mnist = tf.keras.datasets.fashion_mnist\n",
        "(x_train, y_train), (x_test, y_test) = fashion_mnist.load_data()\n"
      ]
    },
    {
      "cell_type": "markdown",
      "metadata": {
        "id": "Nf57YIy2-r_j"
      },
      "source": [
        "Loading the dataset returns four NumPy arrays:\n",
        "\n",
        "* The `train_images` and `train_labels` arrays are the *training set*—the data the model uses to learn.\n",
        "* The model is tested against the *test set*, the `test_images`, and `test_labels` arrays.\n",
        "\n",
        "The images are 28x28 NumPy arrays, with pixel values ranging from 0 to 255. The *labels* are an array of integers, ranging from 0 to 9. These correspond to the *class* of clothing the image represents:\n",
        "\n",
        "<table>\n",
        "  <tr>\n",
        "    <th>Label</th>\n",
        "    <th>Class</th>\n",
        "  </tr>\n",
        "  <tr>\n",
        "    <td>0</td>\n",
        "    <td>T-shirt/top</td>\n",
        "  </tr>\n",
        "  <tr>\n",
        "    <td>1</td>\n",
        "    <td>Trouser</td>\n",
        "  </tr>\n",
        "    <tr>\n",
        "    <td>2</td>\n",
        "    <td>Pullover</td>\n",
        "  </tr>\n",
        "    <tr>\n",
        "    <td>3</td>\n",
        "    <td>Dress</td>\n",
        "  </tr>\n",
        "    <tr>\n",
        "    <td>4</td>\n",
        "    <td>Coat</td>\n",
        "  </tr>\n",
        "    <tr>\n",
        "    <td>5</td>\n",
        "    <td>Sandal</td>\n",
        "  </tr>\n",
        "    <tr>\n",
        "    <td>6</td>\n",
        "    <td>Shirt</td>\n",
        "  </tr>\n",
        "    <tr>\n",
        "    <td>7</td>\n",
        "    <td>Sneaker</td>\n",
        "  </tr>\n",
        "    <tr>\n",
        "    <td>8</td>\n",
        "    <td>Bag</td>\n",
        "  </tr>\n",
        "    <tr>\n",
        "    <td>9</td>\n",
        "    <td>Ankle boot</td>\n",
        "  </tr>\n",
        "</table>\n",
        "\n",
        "Each image is mapped to a single label. Since the *class names* are not included with the dataset, store them here to use later when plotting the images:"
      ]
    },
    {
      "cell_type": "code",
      "execution_count": 5,
      "metadata": {
        "id": "hR0fkY4M-81A"
      },
      "outputs": [],
      "source": [
        "class_names = ['T-shirt/top', 'Trouser', 'Pullover', 'Dress', 'Coat',\n",
        "               'Sandal', 'Shirt', 'Sneaker', 'Bag', 'Ankle boot']"
      ]
    },
    {
      "cell_type": "markdown",
      "metadata": {
        "id": "Q7IAZYi1CjNr"
      },
      "source": [
        "In the following cells, you can information about this dataset:"
      ]
    },
    {
      "cell_type": "code",
      "execution_count": 6,
      "metadata": {
        "colab": {
          "base_uri": "https://localhost:8080/"
        },
        "id": "atVBB8zV-OIZ",
        "outputId": "576bf022-6e97-4d25-aea0-ff08c63d0b2f"
      },
      "outputs": [
        {
          "name": "stdout",
          "output_type": "stream",
          "text": [
            "x_train : (60000, 28, 28)\n",
            "y_train : (60000,)\n",
            "x_test : (10000, 28, 28)\n",
            "y_test : (10000,)\n"
          ]
        }
      ],
      "source": [
        "print(f'x_train : {x_train.shape}')\n",
        "print(f'y_train : {y_train.shape}')\n",
        "print(f'x_test : {x_test.shape}')\n",
        "print(f'y_test : {y_test.shape}')"
      ]
    },
    {
      "cell_type": "code",
      "execution_count": 7,
      "metadata": {
        "colab": {
          "base_uri": "https://localhost:8080/",
          "height": 591
        },
        "id": "_RyJG7Flx_BZ",
        "outputId": "88ccb30b-4e78-48d8-caa1-fa8078ab1453"
      },
      "outputs": [
        {
          "data": {
            "image/png": "[encoded data removed]",
            "text/plain": [
              "<Figure size 720x720 with 9 Axes>"
            ]
          },
          "metadata": {
            "needs_background": "light"
          },
          "output_type": "display_data"
        }
      ],
      "source": [
        "plt.figure(figsize=(10, 10))\n",
        "for i in range(9):\n",
        "    ax = plt.subplot(3, 3, i + 1)\n",
        "    plt.imshow(x_train[i].astype(\"uint8\"),cmap='gray')\n",
        "    plt.title(class_names[int(y_train[i])])\n",
        "    plt.axis(\"off\")"
      ]
    },
    {
      "cell_type": "code",
      "execution_count": 8,
      "metadata": {
        "colab": {
          "base_uri": "https://localhost:8080/"
        },
        "id": "CiqKDmosDCWY",
        "outputId": "22509a74-0ade-45b0-a1aa-784146f4888f"
      },
      "outputs": [
        {
          "name": "stdout",
          "output_type": "stream",
          "text": [
            "y_train[0]: 9\n"
          ]
        }
      ],
      "source": [
        "print(f'y_train[0]: {y_train[0]}')"
      ]
    },
    {
      "cell_type": "markdown",
      "metadata": {
        "id": "sKy8IfZrEqsV"
      },
      "source": [
        "###Preprocess the data"
      ]
    },
    {
      "cell_type": "markdown",
      "metadata": {
        "id": "nhBq0p4aDliz"
      },
      "source": [
        "You can normalize your data to improve the training performance.\n",
        "\n",
        "note that it's important that the training set and the testing set be preprocessed in the same way:"
      ]
    },
    {
      "cell_type": "code",
      "execution_count": 9,
      "metadata": {
        "id": "4P6LLDmeDlLP"
      },
      "outputs": [],
      "source": [
        "x_train = x_train/ 255.0\n",
        "x_test = x_test / 255.0"
      ]
    },
    {
      "cell_type": "markdown",
      "metadata": {
        "id": "_8YJ7X64FApA"
      },
      "source": [
        "###Build the model"
      ]
    },
    {
      "cell_type": "markdown",
      "metadata": {
        "id": "r3olwGkVFbGC"
      },
      "source": [
        "The basic building block of a neural network is the [*layer*](https://www.tensorflow.org/api_docs/python/tf/keras/layers). Layers extract representations from the data fed into them. Hopefully, these representations are meaningful for the problem at hand.\n",
        "\n",
        "Most of deep learning consists of chaining together simple layers. Most layers, such as `tf.keras.layers.Dense`, have parameters that are learned during training."
      ]
    },
    {
      "cell_type": "code",
      "execution_count": 10,
      "metadata": {
        "id": "6zcu1mE7zChi"
      },
      "outputs": [],
      "source": [
        "seq_model = Sequential()\n",
        "seq_model.add(Input(shape= (28,28)))\n",
        "seq_model.add(Flatten())\n",
        "seq_model.add(Dense(units=128, activation='relu'))\n",
        "seq_model.add(Dense(units=10))"
      ]
    },
    {
      "cell_type": "markdown",
      "metadata": {
        "id": "ZAXp8N_wFu-m"
      },
      "source": [
        "The first layer in this network, `tf.keras.layers.Flatten`, transforms the format of the images from a two-dimensional array (of 28 by 28 pixels) to a one-dimensional array (of 28 * 28 = 784 pixels). Think of this layer as unstacking rows of pixels in the image and lining them up. This layer has no parameters to learn; it only reformats the data.\n",
        "\n",
        "After the pixels are flattened, the network consists of a sequence of two `tf.keras.layers.Dense` layers. These are densely connected, or fully connected, neural layers. The first `Dense` layer has 128 nodes (or neurons). The second (and last) layer returns a logits array with length of 10. Each node contains a score that indicates the current image belongs to one of the 10 classes.\n",
        "\n",
        "\n",
        "\n"
      ]
    },
    {
      "cell_type": "code",
      "execution_count": 11,
      "metadata": {
        "colab": {
          "base_uri": "https://localhost:8080/"
        },
        "id": "G9XLYiiiI-5f",
        "outputId": "ca38dbf3-87f2-4b3f-a49a-0ad399a1dfa9"
      },
      "outputs": [
        {
          "name": "stdout",
          "output_type": "stream",
          "text": [
            "Model: \"sequential\"\n",
            "_________________________________________________________________\n",
            " Layer (type)                Output Shape              Param #   \n",
            "=================================================================\n",
            " flatten (Flatten)           (None, 784)               0         \n",
            "                                                                 \n",
            " dense (Dense)               (None, 128)               100480    \n",
            "                                                                 \n",
            " dense_1 (Dense)             (None, 10)                1290      \n",
            "                                                                 \n",
            "=================================================================\n",
            "Total params: 101,770\n",
            "Trainable params: 101,770\n",
            "Non-trainable params: 0\n",
            "_________________________________________________________________\n"
          ]
        }
      ],
      "source": [
        "seq_model.summary()"
      ]
    },
    {
      "cell_type": "markdown",
      "metadata": {
        "id": "yG55AoU_F_3P"
      },
      "source": [
        "### Compile the model"
      ]
    },
    {
      "cell_type": "markdown",
      "metadata": {
        "id": "0CmhGUPiGFUO"
      },
      "source": [
        "Before the model is ready for training, it needs a few more settings. These are added during the model's [*compile*](https://www.tensorflow.org/api_docs/python/tf/keras/Model#compile) step:\n",
        "\n",
        "* [*Loss function*](https://www.tensorflow.org/api_docs/python/tf/keras/losses) —This measures how accurate the model is during training. You want to minimize this function to \"steer\" the model in the right direction.\n",
        "* [*Optimizer*](https://www.tensorflow.org/api_docs/python/tf/keras/optimizers) —This is how the model is updated based on the data it sees and its loss function.\n",
        "* [*Metrics*](https://www.tensorflow.org/api_docs/python/tf/keras/metrics) —Used to monitor the training and testing steps. The following example uses *accuracy*, the fraction of the images that are correctly classified."
      ]
    },
    {
      "cell_type": "code",
      "execution_count": 12,
      "metadata": {
        "id": "xEgGOrv-GEX0"
      },
      "outputs": [],
      "source": [
        "seq_model.compile(optimizer='adam',\n",
        "              loss=tf.keras.losses.SparseCategoricalCrossentropy(from_logits=True),\n",
        "              metrics=['accuracy'])"
      ]
    },
    {
      "cell_type": "markdown",
      "metadata": {
        "id": "_MmYp8UTG17Q"
      },
      "source": [
        "### Train the model"
      ]
    },
    {
      "cell_type": "markdown",
      "metadata": {
        "id": "a5Ydf9yxGbGz"
      },
      "source": [
        "Training the neural network model requires the following steps:\n",
        "\n",
        "1. Feed the training data to the model. In this example, the training data is in the `train_images` and `train_labels` arrays.\n",
        "2. The model learns to associate images and labels.\n",
        "3. You ask the model to make predictions about a test set—in this example, the `test_images` array.\n",
        "4. Verify that the predictions match the labels from the `test_labels` array.\n"
      ]
    },
    {
      "cell_type": "markdown",
      "metadata": {
        "id": "rNFb2HFkGnOT"
      },
      "source": [
        "#### Feed the model\n",
        "\n",
        "To start training,  call the [`model.fit`](https://www.tensorflow.org/api_docs/python/tf/keras/Model#fit) method—so called because it \"fits\" the model to the training data:"
      ]
    },
    {
      "cell_type": "code",
      "execution_count": 13,
      "metadata": {
        "colab": {
          "base_uri": "https://localhost:8080/"
        },
        "id": "6yUWRI87HCil",
        "outputId": "b6617438-5416-4a9a-ae80-c061a1f15d59"
      },
      "outputs": [
        {
          "name": "stdout",
          "output_type": "stream",
          "text": [
            "Epoch 1/10\n",
            "1875/1875 [==============================] - 4s 2ms/step - loss: 0.4994 - accuracy: 0.8236\n",
            "Epoch 2/10\n",
            "1875/1875 [==============================] - 3s 2ms/step - loss: 0.3822 - accuracy: 0.8617\n",
            "Epoch 3/10\n",
            "1875/1875 [==============================] - 3s 2ms/step - loss: 0.3423 - accuracy: 0.8758\n",
            "Epoch 4/10\n",
            "1875/1875 [==============================] - 3s 2ms/step - loss: 0.3152 - accuracy: 0.8848\n",
            "Epoch 5/10\n",
            "1875/1875 [==============================] - 3s 2ms/step - loss: 0.2969 - accuracy: 0.8915\n",
            "Epoch 6/10\n",
            "1875/1875 [==============================] - 3s 2ms/step - loss: 0.2802 - accuracy: 0.8964\n",
            "Epoch 7/10\n",
            "1875/1875 [==============================] - 3s 2ms/step - loss: 0.2661 - accuracy: 0.9020\n",
            "Epoch 8/10\n",
            "1875/1875 [==============================] - 3s 2ms/step - loss: 0.2556 - accuracy: 0.9057\n",
            "Epoch 9/10\n",
            "1875/1875 [==============================] - 3s 2ms/step - loss: 0.2470 - accuracy: 0.9082\n",
            "Epoch 10/10\n",
            "1875/1875 [==============================] - 3s 2ms/step - loss: 0.2385 - accuracy: 0.9102\n"
          ]
        }
      ],
      "source": [
        "history = seq_model.fit(x_train, y_train, epochs=10)"
      ]
    },
    {
      "cell_type": "markdown",
      "metadata": {
        "id": "nO_pjqJVHd68"
      },
      "source": [
        "As the model trains, the loss and accuracy metrics are displayed. This model reaches an accuracy of about 0.91 (or 91%) on the training data."
      ]
    },
    {
      "cell_type": "code",
      "execution_count": 14,
      "metadata": {
        "colab": {
          "base_uri": "https://localhost:8080/",
          "height": 295
        },
        "id": "Att7bQusKXW-",
        "outputId": "10ca7283-d89c-4aed-88a3-ef96281fc40a"
      },
      "outputs": [
        {
          "data": {
            "image/png": "[encoded data removed]",
            "text/plain": [
              "<Figure size 432x288 with 1 Axes>"
            ]
          },
          "metadata": {
            "needs_background": "light"
          },
          "output_type": "display_data"
        }
      ],
      "source": [
        "plt.plot(history.history['loss'])\n",
        "plt.title('Training loss')\n",
        "plt.xlabel('Epoch')\n",
        "plt.ylabel('loss')\n",
        "plt.show()"
      ]
    },
    {
      "cell_type": "code",
      "execution_count": 15,
      "metadata": {
        "colab": {
          "base_uri": "https://localhost:8080/",
          "height": 295
        },
        "id": "UeaGehyBLASv",
        "outputId": "a253cff7-1f01-4e78-ff00-1f340d56f5d2"
      },
      "outputs": [
        {
          "data": {
            "image/png": "[encoded data removed]",
            "text/plain": [
              "<Figure size 432x288 with 1 Axes>"
            ]
          },
          "metadata": {
            "needs_background": "light"
          },
          "output_type": "display_data"
        }
      ],
      "source": [
        "plt.plot(history.history['accuracy'])\n",
        "plt.title('Training accuracy')\n",
        "plt.xlabel('Epoch')\n",
        "plt.ylabel('accuracy')\n",
        "plt.show()"
      ]
    },
    {
      "cell_type": "markdown",
      "metadata": {
        "id": "gy8lCIT8Hlm9"
      },
      "source": [
        "#### Evaluate accuracy\n",
        "\n",
        "Next, compare how the model performs on the test dataset:"
      ]
    },
    {
      "cell_type": "code",
      "execution_count": 16,
      "metadata": {
        "colab": {
          "base_uri": "https://localhost:8080/"
        },
        "id": "nixAvZ1rIDiK",
        "outputId": "ea7b35de-3d5e-4240-964b-342c56c33c56"
      },
      "outputs": [
        {
          "name": "stdout",
          "output_type": "stream",
          "text": [
            "313/313 - 0s - loss: 0.3436 - accuracy: 0.8846 - 407ms/epoch - 1ms/step\n",
            "\n",
            "Test accuracy: 0.8845999836921692\n"
          ]
        }
      ],
      "source": [
        "test_loss, test_acc = seq_model.evaluate(x_test,  y_test, verbose=2)\n",
        "\n",
        "print('\\nTest accuracy:', test_acc)"
      ]
    },
    {
      "cell_type": "markdown",
      "metadata": {
        "id": "j2WiiDOOIoUg"
      },
      "source": [
        "It turns out that the accuracy on the test dataset is a little less than the accuracy on the training dataset. This gap between training accuracy and test accuracy represents *overfitting*. Overfitting happens when a machine learning model performs worse on new, previously unseen inputs than it does on the training data. An overfitted model \"memorizes\" the noise and details in the training dataset to a point where it negatively impacts the performance of the model on the new data."
      ]
    },
    {
      "cell_type": "markdown",
      "metadata": {
        "id": "mwL5UpkcJH5G"
      },
      "source": [
        "#### Make predictions\n",
        "\n",
        "With the model trained, you can use it to make predictions about some images.\n",
        "Attach a softmax layer to convert the model's linear outputs—[logits](https://developers.google.com/machine-learning/glossary#logits)—to probabilities, which should be easier to interpret."
      ]
    },
    {
      "cell_type": "code",
      "execution_count": 17,
      "metadata": {
        "id": "nVrv6yxS1b3Z"
      },
      "outputs": [],
      "source": [
        "probability_model = tf.keras.Sequential([seq_model, Softmax()])"
      ]
    },
    {
      "cell_type": "code",
      "execution_count": 18,
      "metadata": {
        "colab": {
          "base_uri": "https://localhost:8080/"
        },
        "id": "U0e3DBNSJWdC",
        "outputId": "82c319f0-7bf9-492c-e23f-7ec8169dffe3"
      },
      "outputs": [
        {
          "name": "stdout",
          "output_type": "stream",
          "text": [
            "313/313 [==============================] - 0s 1ms/step\n"
          ]
        }
      ],
      "source": [
        "y_pred = probability_model.predict(x_test)"
      ]
    },
    {
      "cell_type": "code",
      "execution_count": 19,
      "metadata": {
        "colab": {
          "base_uri": "https://localhost:8080/"
        },
        "id": "aEvfBY0lJhP1",
        "outputId": "60daf507-384b-43ee-bfe2-030127932225"
      },
      "outputs": [
        {
          "data": {
            "text/plain": [
              "array([3.8230823e-09, 1.5084388e-10, 8.8091576e-07, 1.6585691e-08,\n",
              "       3.7427085e-08, 7.1776588e-03, 4.7157307e-08, 1.8296419e-02,\n",
              "       3.2846236e-07, 9.7452450e-01], dtype=float32)"
            ]
          },
          "execution_count": 19,
          "metadata": {},
          "output_type": "execute_result"
        }
      ],
      "source": [
        "y_pred[0]"
      ]
    },
    {
      "cell_type": "markdown",
      "metadata": {
        "id": "Jrcz1W7KJqmB"
      },
      "source": [
        "A prediction is an array of 10 numbers. They represent the model's \"confidence\" that the image corresponds to each of the 10 different articles of clothing. You can see which label has the highest confidence value:"
      ]
    },
    {
      "cell_type": "code",
      "execution_count": 20,
      "metadata": {
        "colab": {
          "base_uri": "https://localhost:8080/",
          "height": 283
        },
        "id": "E89dNnPIJnpa",
        "outputId": "505ea291-7c3d-4aaf-9ec9-52424e0a7212"
      },
      "outputs": [
        {
          "name": "stdout",
          "output_type": "stream",
          "text": [
            "label : 9 and class : Ankle boot\n"
          ]
        },
        {
          "data": {
            "image/png": "[encoded data removed]",
            "text/plain": [
              "<Figure size 432x288 with 1 Axes>"
            ]
          },
          "metadata": {
            "needs_background": "light"
          },
          "output_type": "display_data"
        }
      ],
      "source": [
        "plt.imshow(x_test[0],cmap='gray')\n",
        "label = np.argmax(y_pred[0])\n",
        "print(f'label : {label} and class : {class_names[label]}')"
      ]
    },
    {
      "cell_type": "markdown",
      "metadata": {
        "id": "tBohhXZ-LlHJ"
      },
      "source": [
        "## Basic classification: Classify images of handwritten digits"
      ]
    },
    {
      "cell_type": "markdown",
      "metadata": {
        "id": "BsVQ7Q_aL0DJ"
      },
      "source": [
        "In this section you should design a neural network arcitecutre and train it on [MNIST](http://yann.lecun.com/exdb/mnist/) dataset. note that you should implent your arcitecutre with both sequential and functional approachs. we have already implemented a network with sequential approach on Fashion Mnist dataset. You can read more about functional approach in [this link](https://www.tensorflow.org/guide/keras/functional).\n",
        "  \n",
        "\n",
        "You can use [this link](https://keras.io/api/datasets/mnist/) for loading Mnist dataset. \n",
        "\n",
        "You should also implement all the prior steps for this dataset. "
      ]
    },
    {
      "cell_type": "code",
      "execution_count": 23,
      "metadata": {
        "colab": {
          "base_uri": "https://localhost:8080/",
          "height": 320
        },
        "id": "g7A1UO1KPo73",
        "outputId": "534b0aa7-0412-4d47-edd3-005c0448dd9f"
      },
      "outputs": [
        {
          "name": "stdout",
          "output_type": "stream",
          "text": [
            "2\n",
            "x_train reshape: (60000, 28, 28, 1)\n",
            "x_test reshape: (10000, 28, 28, 1)\n"
          ]
        },
        {
          "data": {
            "image/png": "[encoded data removed]",
            "text/plain": [
              "<Figure size 432x288 with 1 Axes>"
            ]
          },
          "metadata": {
            "needs_background": "light"
          },
          "output_type": "display_data"
        }
      ],
      "source": [
        "(digit_x_train, digit_lab_train), (digit_x_test, digit_lab_test) = tf.keras.datasets.mnist.load_data()\n",
        "# test\n",
        "image_index = 5 \n",
        "print(digit_lab_train[image_index])\n",
        "plt.imshow(digit_x_train[image_index])\n",
        "\n",
        "digit_x_train = digit_x_train.reshape(digit_x_train.shape[0], 28, 28, 1) \n",
        "print('x_train reshape:', digit_x_train.shape)\n",
        "digit_x_test = digit_x_test.reshape(digit_x_test.shape[0], 28, 28, 1)\n",
        "print('x_test reshape:', digit_x_test.shape)\n",
        "# convert to float\n",
        "digit_x_train = digit_x_train.astype('float32')\n",
        "digit_x_test = digit_x_test.astype('float32')\n",
        "# normalize\n",
        "digit_x_train /= 255.0\n",
        "digit_x_test /= 255.0"
      ]
    },
    {
      "cell_type": "markdown",
      "metadata": {
        "id": "4YOrD3t5Ppdh"
      },
      "source": [
        "## Sequential approach"
      ]
    },
    {
      "cell_type": "code",
      "execution_count": 24,
      "metadata": {
        "colab": {
          "base_uri": "https://localhost:8080/"
        },
        "id": "iC-vnl1DLutG",
        "outputId": "901e9b43-38f5-46e2-8ad8-c5f731115467"
      },
      "outputs": [
        {
          "name": "stdout",
          "output_type": "stream",
          "text": [
            "Epoch 1/10\n",
            "1875/1875 [==============================] - 4s 2ms/step - loss: 0.2566 - accuracy: 0.9266\n",
            "Epoch 2/10\n",
            "1875/1875 [==============================] - 4s 2ms/step - loss: 0.1137 - accuracy: 0.9659\n",
            "Epoch 3/10\n",
            "1875/1875 [==============================] - 4s 2ms/step - loss: 0.0775 - accuracy: 0.9772\n",
            "Epoch 4/10\n",
            "1875/1875 [==============================] - 4s 2ms/step - loss: 0.0572 - accuracy: 0.9828\n",
            "Epoch 5/10\n",
            "1875/1875 [==============================] - 3s 2ms/step - loss: 0.0433 - accuracy: 0.9869\n",
            "Epoch 6/10\n",
            "1875/1875 [==============================] - 4s 2ms/step - loss: 0.0346 - accuracy: 0.9888\n",
            "Epoch 7/10\n",
            "1875/1875 [==============================] - 4s 2ms/step - loss: 0.0272 - accuracy: 0.9913\n",
            "Epoch 8/10\n",
            "1875/1875 [==============================] - 4s 2ms/step - loss: 0.0217 - accuracy: 0.9937\n",
            "Epoch 9/10\n",
            "1875/1875 [==============================] - 4s 2ms/step - loss: 0.0179 - accuracy: 0.9943\n",
            "Epoch 10/10\n",
            "1875/1875 [==============================] - 4s 2ms/step - loss: 0.0136 - accuracy: 0.9962\n"
          ]
        },
        {
          "data": {
            "text/plain": [
              "<keras.callbacks.History at 0x7f71ec4adf10>"
            ]
          },
          "execution_count": 24,
          "metadata": {},
          "output_type": "execute_result"
        }
      ],
      "source": [
        "# bulid the model\n",
        "model = Sequential()\n",
        "model.add(Input(shape=(28, 28, 1)))\n",
        "model.add(Flatten()) # convert to one dimensial\n",
        "model.add(Dense(128, activation=\"relu\"))\n",
        "model.add(Dense(10,activation=tf.nn.softmax))\n",
        "# compile the model\n",
        "model.compile(optimizer='adam', \n",
        "              loss='sparse_categorical_crossentropy', \n",
        "              metrics=['accuracy'])\n",
        "# train the model\n",
        "model.fit(x=digit_x_train,y=digit_lab_train, epochs=10)"
      ]
    },
    {
      "cell_type": "code",
      "execution_count": 28,
      "metadata": {
        "colab": {
          "base_uri": "https://localhost:8080/"
        },
        "id": "zSAeuBGWPtro",
        "outputId": "7a15b8a6-27c3-4717-897d-88bf7c13301c"
      },
      "outputs": [
        {
          "name": "stdout",
          "output_type": "stream",
          "text": [
            "313/313 [==============================] - 0s 1ms/step - loss: 0.0867 - accuracy: 0.9771\n",
            "\n",
            "Test accuracy: 0.9771000146865845\n",
            "313/313 [==============================] - 0s 1ms/step\n",
            "\n",
            "Prediction 1 : [0.08533675 0.08533677 0.23196913 0.08533677 0.08533675 0.08533675\n",
            " 0.08533675 0.08533675 0.08533677 0.08533675]\n"
          ]
        },
        {
          "data": {
            "text/plain": [
              "2"
            ]
          },
          "execution_count": 28,
          "metadata": {},
          "output_type": "execute_result"
        }
      ],
      "source": [
        "# evaluate the model\n",
        "test_loss, test_acc = model.evaluate(digit_x_test,  digit_lab_test)\n",
        "print('\\nTest accuracy:', test_acc)\n",
        "# make predictions\n",
        "probability_model = tf.keras.Sequential([model, Softmax()])\n",
        "predictions = probability_model.predict(digit_x_test)\n",
        "print('\\nPrediction 1 :', predictions[1])\n",
        "np.argmax(predictions[1])\n",
        "digit_lab_test[1]"
      ]
    },
    {
      "cell_type": "markdown",
      "metadata": {
        "id": "PpkA5vL1PuA_"
      },
      "source": [
        "## Functional Approch"
      ]
    },
    {
      "cell_type": "code",
      "execution_count": 29,
      "metadata": {
        "colab": {
          "base_uri": "https://localhost:8080/"
        },
        "id": "tsfs8DGWPv_i",
        "outputId": "c093900c-40be-47ab-dc9e-230e7be824da"
      },
      "outputs": [
        {
          "name": "stdout",
          "output_type": "stream",
          "text": [
            "Model: \"mnist_model\"\n",
            "_________________________________________________________________\n",
            " Layer (type)                Output Shape              Param #   \n",
            "=================================================================\n",
            " input_3 (InputLayer)        [(None, 784)]             0         \n",
            "                                                                 \n",
            " dense_4 (Dense)             (None, 64)                50240     \n",
            "                                                                 \n",
            " dense_5 (Dense)             (None, 64)                4160      \n",
            "                                                                 \n",
            " dense_6 (Dense)             (None, 10)                650       \n",
            "                                                                 \n",
            "=================================================================\n",
            "Total params: 55,050\n",
            "Trainable params: 55,050\n",
            "Non-trainable params: 0\n",
            "_________________________________________________________________\n"
          ]
        }
      ],
      "source": [
        "(functional_x_train, functional_lab_train), (functional_x_test, functional_lab_test) = tf.keras.datasets.mnist.load_data()\n",
        "# Convert and normalize\n",
        "functional_x_train = functional_x_train.reshape(60000, 784).astype(\"float32\") / 255\n",
        "functional_x_test = functional_x_test.reshape(10000, 784).astype(\"float32\") / 255\n",
        "# Make model\n",
        "inputs = tf.keras.Input(shape=(784, ))\n",
        "x = tf.keras.layers.Dense(64, activation=\"relu\")(inputs)\n",
        "x = tf.keras.layers.Dense(64, activation=\"relu\")(x)\n",
        "outputs = tf.keras.layers.Dense(10)(x)\n",
        "functional_model = tf.keras.Model(inputs=inputs, outputs=outputs, name=\"mnist_model\")\n",
        "# Get summery\n",
        "functional_model.summary()"
      ]
    },
    {
      "cell_type": "code",
      "execution_count": 33,
      "metadata": {
        "colab": {
          "base_uri": "https://localhost:8080/"
        },
        "id": "ugYKAXMUPzKs",
        "outputId": "bea49c6d-c689-474b-9b1a-e2c015ac6b73"
      },
      "outputs": [
        {
          "name": "stdout",
          "output_type": "stream",
          "text": [
            "Epoch 1/10\n",
            "750/750 [==============================] - 2s 2ms/step - loss: 0.0044 - accuracy: 0.9986 - val_loss: 0.2081 - val_accuracy: 0.9746\n",
            "Epoch 2/10\n",
            "750/750 [==============================] - 2s 2ms/step - loss: 0.0040 - accuracy: 0.9989 - val_loss: 0.2199 - val_accuracy: 0.9735\n",
            "Epoch 3/10\n",
            "750/750 [==============================] - 2s 2ms/step - loss: 0.0039 - accuracy: 0.9987 - val_loss: 0.2205 - val_accuracy: 0.9738\n",
            "Epoch 4/10\n",
            "750/750 [==============================] - 2s 2ms/step - loss: 0.0038 - accuracy: 0.9987 - val_loss: 0.2272 - val_accuracy: 0.9743\n",
            "Epoch 5/10\n",
            "750/750 [==============================] - 2s 3ms/step - loss: 0.0037 - accuracy: 0.9988 - val_loss: 0.2390 - val_accuracy: 0.9719\n",
            "Epoch 6/10\n",
            "750/750 [==============================] - 2s 2ms/step - loss: 0.0028 - accuracy: 0.9991 - val_loss: 0.2499 - val_accuracy: 0.9708\n",
            "Epoch 7/10\n",
            "750/750 [==============================] - 2s 2ms/step - loss: 0.0029 - accuracy: 0.9991 - val_loss: 0.2214 - val_accuracy: 0.9738\n",
            "Epoch 8/10\n",
            "750/750 [==============================] - 2s 2ms/step - loss: 0.0030 - accuracy: 0.9988 - val_loss: 0.2337 - val_accuracy: 0.9741\n",
            "Epoch 9/10\n",
            "750/750 [==============================] - 2s 2ms/step - loss: 0.0025 - accuracy: 0.9992 - val_loss: 0.2554 - val_accuracy: 0.9707\n",
            "Epoch 10/10\n",
            "750/750 [==============================] - 2s 2ms/step - loss: 0.0020 - accuracy: 0.9993 - val_loss: 0.2557 - val_accuracy: 0.9744\n",
            "313/313 - 0s - loss: 0.2106 - accuracy: 0.9752 - 288ms/epoch - 921us/step\n",
            "Test loss: 0.21059954166412354\n",
            "Test accuracy: 0.9751999974250793\n"
          ]
        }
      ],
      "source": [
        "# Compile the model\n",
        "functional_model.compile(\n",
        "    loss=tf.keras.losses.SparseCategoricalCrossentropy(from_logits=True),\n",
        "    optimizer=tf.keras.optimizers.RMSprop(),\n",
        "    metrics=[\"accuracy\"],\n",
        ")\n",
        "# Train the model\n",
        "functional_model.fit(x=functional_x_train,y=functional_lab_train,  batch_size=64, epochs=10, validation_split=0.2)\n",
        "# Test Scores\n",
        "test_scores = functional_model.evaluate(functional_x_test, functional_lab_test, verbose=2)\n",
        "print(\"Test loss:\", test_scores[0])\n",
        "print(\"Test accuracy:\", test_scores[1])"
      ]
    }
  ],
  "metadata": {
    "colab": {
      "provenance": []
    },
    "kernelspec": {
      "display_name": "Python 3",
      "name": "python3"
    },
    "language_info": {
      "name": "python"
    }
  },
  "nbformat": 4,
  "nbformat_minor": 0
}
